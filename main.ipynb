{
 "cells": [
  {
   "cell_type": "code",
   "execution_count": 32,
   "metadata": {},
   "outputs": [],
   "source": [
    "from sklearn import datasets\n",
    "import pandas as pd\n",
    "from sklearn.linear_model import LogisticRegression\n",
    "from sklearn.datasets import load_iris\n",
    "from sklearn.model_selection import train_test_split\n",
    "import numpy as np\n",
    "from sklearn.datasets import fetch_openml\n",
    "from sklearn.datasets import fetch_california_housing\n",
    "from sklearn.model_selection import train_test_split, cross_val_score\n",
    "from sklearn.preprocessing import StandardScaler\n",
    "from sklearn.metrics import accuracy_score "
   ]
  },
  {
   "cell_type": "code",
   "execution_count": null,
   "metadata": {},
   "outputs": [],
   "source": [
    "\n",
    "iris = datasets.load_iris()\n",
    "wine = datasets.load_wine()\n",
    "breast_cancer = datasets.load_breast_cancer()\n",
    "digits = datasets.load_digits()\n",
    "wine_quality = pd.read_csv('https://archive.ics.uci.edu/ml/machine-learning-databases/wine-quality/winequality-red.csv', delimiter=';')\n",
    "\n",
    "data_list = [iris, wine, breast_cancer, digits, wine_quality]\n",
    "data_names = ['iris', 'wine', 'breast_cancer', 'digits', 'wine_quality']\n"
   ]
  },
  {
   "cell_type": "markdown",
   "metadata": {},
   "source": [
    "* Random Forest Classifier "
   ]
  },
  {
   "cell_type": "code",
   "execution_count": 49,
   "metadata": {},
   "outputs": [
    {
     "name": "stdout",
     "output_type": "stream",
     "text": [
      "Dataset: iris\n",
      "Accuracy: 0.90\n",
      " \n",
      "Dataset: wine\n",
      "Accuracy: 1.00\n",
      " \n",
      "Dataset: breast_cancer\n",
      "Accuracy: 0.96\n",
      " \n",
      "Dataset: digits\n",
      "Accuracy: 0.96\n",
      " \n",
      "Dataset: wine_quality\n",
      "Accuracy: 0.68\n",
      " \n",
      "Average accuracy: 0.90\n"
     ]
    }
   ],
   "source": [
    "# Import necessary libraries\n",
    "from sklearn.ensemble import RandomForestClassifier\n",
    "\n",
    "avrege_accuracy = 0\n",
    "i = 0\n",
    "for data in data_list:\n",
    "    if data_names[i] == 'wine_quality':\n",
    "        X = data.drop('quality', axis=1)\n",
    "        y = data['quality']\n",
    "    else:\n",
    "        X = data.data\n",
    "        y = data.target\n",
    "\n",
    "    # Split the data into training and testing sets\n",
    "    X_train, X_test, y_train, y_test = train_test_split(X, y, test_size=0.2, random_state=42, stratify=y)\n",
    "\n",
    "    # Standardization\n",
    "    scaler = StandardScaler()\n",
    "    X_train = scaler.fit_transform(X_train)\n",
    "    X_test = scaler.transform(X_test)\n",
    "\n",
    "    # Train the classifier\n",
    "    classifier = RandomForestClassifier(random_state=42)\n",
    "    classifier.fit(X_train, y_train)\n",
    "\n",
    "    # Make predictions on the test set\n",
    "    y_pred = classifier.predict(X_test)\n",
    "\n",
    "    # Evaluate the classifier and get accuracy\n",
    "    accuracy = accuracy_score(y_test, y_pred)\n",
    "    print(f'Dataset: {data_names[i]}')\n",
    "    print(f'Accuracy: {accuracy:.2f}')\n",
    "\n",
    "    print(\" \")\n",
    "    i=i+1\n",
    "    avrege_accuracy = avrege_accuracy + accuracy\n",
    "    \n",
    "print(f'Average accuracy: {avrege_accuracy/data_list.__len__():.2f}')\n"
   ]
  },
  {
   "cell_type": "markdown",
   "metadata": {},
   "source": [
    "* SVC Classifier"
   ]
  },
  {
   "cell_type": "code",
   "execution_count": 48,
   "metadata": {},
   "outputs": [
    {
     "name": "stdout",
     "output_type": "stream",
     "text": [
      "Dataset: iris\n",
      "Accuracy: 0.97\n",
      " \n",
      "Dataset: wine\n",
      "Accuracy: 0.97\n",
      " \n",
      "Dataset: breast_cancer\n",
      "Accuracy: 0.98\n",
      " \n",
      "Dataset: digits\n",
      "Accuracy: 0.97\n",
      " \n",
      "Dataset: wine_quality\n",
      "Accuracy: 0.62\n",
      " \n",
      "Average accuracy: 0.90\n"
     ]
    }
   ],
   "source": [
    "# Import necessary libraries\n",
    "import numpy as np\n",
    "from sklearn import datasets\n",
    "from sklearn.svm import SVC\n",
    "from sklearn.model_selection import train_test_split, cross_val_score\n",
    "from sklearn.preprocessing import StandardScaler\n",
    "from sklearn.metrics import accuracy_score\n",
    "\n",
    "avrege_accuracy = 0\n",
    "i = 0\n",
    "for data in data_list:\n",
    "    if data_names[i] == 'wine_quality':\n",
    "        X = data.drop('quality', axis=1)\n",
    "        y = data['quality']\n",
    "    else:\n",
    "        X = data.data\n",
    "        y = data.target\n",
    "\n",
    "    # Split the data into training and testing sets\n",
    "    X_train, X_test, y_train, y_test = train_test_split(X, y, test_size=0.2, random_state=42, stratify=y)\n",
    "\n",
    "    # Perform necessary preprocessing (standardization)\n",
    "    scaler = StandardScaler()\n",
    "    X_train = scaler.fit_transform(X_train)\n",
    "    X_test = scaler.transform(X_test)\n",
    "\n",
    "    # Train a Support Vector Machine classifier\n",
    "    classifier = SVC(random_state=42)\n",
    "    classifier.fit(X_train, y_train)\n",
    "\n",
    "    # Make predictions on the test set\n",
    "    y_pred = classifier.predict(X_test)\n",
    "\n",
    "    # Evaluate the classifier\n",
    "    accuracy = accuracy_score(y_test, y_pred)\n",
    "    print(f'Dataset: {data_names[i]}')\n",
    "    print(f'Accuracy: {accuracy:.2f}')\n",
    "    print(\" \")\n",
    "    \n",
    "    avrege_accuracy = avrege_accuracy + accuracy\n",
    "    i = i + 1\n",
    "    \n",
    "print(f'Average accuracy: {avrege_accuracy/data_list.__len__():.2f}')"
   ]
  }
 ],
 "metadata": {
  "kernelspec": {
   "display_name": ".venv",
   "language": "python",
   "name": "python3"
  },
  "language_info": {
   "codemirror_mode": {
    "name": "ipython",
    "version": 3
   },
   "file_extension": ".py",
   "mimetype": "text/x-python",
   "name": "python",
   "nbconvert_exporter": "python",
   "pygments_lexer": "ipython3",
   "version": "3.9.13"
  }
 },
 "nbformat": 4,
 "nbformat_minor": 2
}
